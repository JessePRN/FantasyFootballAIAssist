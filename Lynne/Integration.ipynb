{
 "cells": [
  {
   "cell_type": "markdown",
   "id": "d87bc0f5",
   "metadata": {},
   "source": [
    "##  <span style='color:green '>File Consolidation for Integration Testing </span>"
   ]
  },
  {
   "cell_type": "code",
   "execution_count": 1,
   "id": "a039a54d",
   "metadata": {},
   "outputs": [],
   "source": [
    "import pandas as pd\n",
    "adp = pd.read_csv('Resources/Draft_position_no_QB.csv') \n",
    "qb = pd.read_csv('Resources/Draft_position_QB.csv') \n",
    "r = pd.read_csv('Resources/Draft_Rookie.csv') \n",
    "rqb = pd.read_csv('Resources/Draft_Rookie_QB.csv') \n",
    "frames = [adp, qb, r, rqb]\n",
    "final = pd.concat(frames)\n",
    "final.to_csv('Resources/Draft.csv')"
   ]
  }
 ],
 "metadata": {
  "kernelspec": {
   "display_name": "Python 3 (ipykernel)",
   "language": "python",
   "name": "python3"
  },
  "language_info": {
   "codemirror_mode": {
    "name": "ipython",
    "version": 3
   },
   "file_extension": ".py",
   "mimetype": "text/x-python",
   "name": "python",
   "nbconvert_exporter": "python",
   "pygments_lexer": "ipython3",
   "version": "3.9.7"
  }
 },
 "nbformat": 4,
 "nbformat_minor": 5
}
